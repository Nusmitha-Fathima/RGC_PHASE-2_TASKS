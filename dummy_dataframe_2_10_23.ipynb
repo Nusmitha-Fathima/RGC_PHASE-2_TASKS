{
 "cells": [
  {
   "cell_type": "code",
   "execution_count": 1,
   "id": "faee3f71",
   "metadata": {},
   "outputs": [],
   "source": [
    "import pandas as pd"
   ]
  },
  {
   "cell_type": "code",
   "execution_count": 2,
   "id": "3dd29d8c",
   "metadata": {},
   "outputs": [],
   "source": [
    "data={ 'employee_code':['E001','E002','E003','E004','E005','E006','E007','E008','E009','E010'],\n",
    "      'employee_task': ['Task 1', 'Task 2', 'Task 3', 'Task 4', 'Task 5', 'Task 6', 'Task 7', 'Task 8', 'Task 9', 'Task 10'],\n",
    "      'task_difficulty':['easy','difficult','medium','medium','easy','difficult','easy','easy','medium','easy'],\n",
    "      'suggestions':['suggestion1','suggestion2','suggestion3','suggestion4','suggestion5','suggestion6','suggestion7','suggestion8','suggestion9','suggestion10']\n",
    "}"
   ]
  },
  {
   "cell_type": "code",
   "execution_count": 3,
   "id": "977b801b",
   "metadata": {},
   "outputs": [
    {
     "name": "stdout",
     "output_type": "stream",
     "text": [
      "  employee_code employee_task task_difficulty   suggestions\n",
      "0          E001        Task 1            easy   suggestion1\n",
      "1          E002        Task 2       difficult   suggestion2\n",
      "2          E003        Task 3          medium   suggestion3\n",
      "3          E004        Task 4          medium   suggestion4\n",
      "4          E005        Task 5            easy   suggestion5\n",
      "5          E006        Task 6       difficult   suggestion6\n",
      "6          E007        Task 7            easy   suggestion7\n",
      "7          E008        Task 8            easy   suggestion8\n",
      "8          E009        Task 9          medium   suggestion9\n",
      "9          E010       Task 10            easy  suggestion10\n"
     ]
    }
   ],
   "source": [
    "dataframe = pd.DataFrame(data)\n",
    "print(dataframe)"
   ]
  },
  {
   "cell_type": "code",
   "execution_count": 4,
   "id": "2e248b12",
   "metadata": {},
   "outputs": [
    {
     "name": "stdout",
     "output_type": "stream",
     "text": [
      "(10, 4)\n"
     ]
    }
   ],
   "source": [
    "shape = dataframe.shape\n",
    "print(shape)"
   ]
  },
  {
   "cell_type": "code",
   "execution_count": 5,
   "id": "ad1cfb7e",
   "metadata": {},
   "outputs": [
    {
     "name": "stdout",
     "output_type": "stream",
     "text": [
      "Index(['employee_code', 'employee_task', 'task_difficulty', 'suggestions'], dtype='object')\n"
     ]
    }
   ],
   "source": [
    "columns=dataframe.columns\n",
    "print(columns)"
   ]
  },
  {
   "cell_type": "code",
   "execution_count": null,
   "id": "65250dd3",
   "metadata": {},
   "outputs": [],
   "source": []
  }
 ],
 "metadata": {
  "kernelspec": {
   "display_name": "Python 3 (ipykernel)",
   "language": "python",
   "name": "python3"
  },
  "language_info": {
   "codemirror_mode": {
    "name": "ipython",
    "version": 3
   },
   "file_extension": ".py",
   "mimetype": "text/x-python",
   "name": "python",
   "nbconvert_exporter": "python",
   "pygments_lexer": "ipython3",
   "version": "3.11.5"
  }
 },
 "nbformat": 4,
 "nbformat_minor": 5
}
